{
 "cells": [
  {
   "cell_type": "code",
   "execution_count": 1,
   "id": "395b0dd2",
   "metadata": {
    "_cell_guid": "b1076dfc-b9ad-4769-8c92-a6c4dae69d19",
    "_uuid": "8f2839f25d086af736a60e9eeb907d3b93b6e0e5",
    "execution": {
     "iopub.execute_input": "2024-12-25T14:27:58.046566Z",
     "iopub.status.busy": "2024-12-25T14:27:58.046231Z",
     "iopub.status.idle": "2024-12-25T14:29:00.345484Z",
     "shell.execute_reply": "2024-12-25T14:29:00.343101Z"
    },
    "papermill": {
     "duration": 62.305123,
     "end_time": "2024-12-25T14:29:00.348184",
     "exception": false,
     "start_time": "2024-12-25T14:27:58.043061",
     "status": "completed"
    },
    "tags": []
   },
   "outputs": [
    {
     "name": "stdout",
     "output_type": "stream",
     "text": [
      "(42000, 785)\n",
      "(28000, 784)\n",
      "Validation Accuracy: 0.9189285714285714\n",
      "Classification Report:\n",
      "               precision    recall  f1-score   support\n",
      "\n",
      "           0       0.96      0.96      0.96       816\n",
      "           1       0.96      0.98      0.97       909\n",
      "           2       0.91      0.89      0.90       846\n",
      "           3       0.91      0.87      0.89       937\n",
      "           4       0.92      0.93      0.93       839\n",
      "           5       0.85      0.88      0.87       702\n",
      "           6       0.93      0.96      0.94       785\n",
      "           7       0.93      0.92      0.93       893\n",
      "           8       0.90      0.88      0.89       835\n",
      "           9       0.91      0.90      0.91       838\n",
      "\n",
      "    accuracy                           0.92      8400\n",
      "   macro avg       0.92      0.92      0.92      8400\n",
      "weighted avg       0.92      0.92      0.92      8400\n",
      "\n",
      "Submission file created successfully!\n"
     ]
    }
   ],
   "source": [
    "# Import necessary libraries\n",
    "import pandas as pd\n",
    "import numpy as np\n",
    "from sklearn.model_selection import train_test_split\n",
    "from sklearn.linear_model import LogisticRegression\n",
    "from sklearn.metrics import accuracy_score, classification_report, confusion_matrix\n",
    "\n",
    "# Load the datasets\n",
    "train_data = pd.read_csv('/kaggle/input/digit-recognizer/train.csv')\n",
    "test_data = pd.read_csv('/kaggle/input/digit-recognizer/test.csv')\n",
    "sample_submission = pd.read_csv('/kaggle/input/digit-recognizer/sample_submission.csv')\n",
    "\n",
    "# Explore the data\n",
    "print(train_data.shape)\n",
    "print(test_data.shape)\n",
    "\n",
    "# Separate features and labels\n",
    "X = train_data.drop('label', axis=1)  # Features\n",
    "y = train_data['label']              # Labels\n",
    "\n",
    "# Normalize the pixel values (optional but improves performance)\n",
    "X = X / 255.0\n",
    "test_data = test_data / 255.0\n",
    "\n",
    "# Split the data into training and validation sets\n",
    "X_train, X_val, y_train, y_val = train_test_split(X, y, test_size=0.2, random_state=42)\n",
    "\n",
    "# Train a Logistic Regression model\n",
    "model = LogisticRegression(max_iter=1000)\n",
    "model.fit(X_train, y_train)\n",
    "\n",
    "# Evaluate the model on validation data\n",
    "y_pred_val = model.predict(X_val)\n",
    "print(\"Validation Accuracy:\", accuracy_score(y_val, y_pred_val))\n",
    "print(\"Classification Report:\\n\", classification_report(y_val, y_pred_val))\n",
    "\n",
    "# Make predictions on the test data\n",
    "test_predictions = model.predict(test_data)\n",
    "\n",
    "# Prepare the submission file\n",
    "submission = pd.DataFrame({'ImageId': np.arange(1, len(test_predictions) + 1), 'Label': test_predictions})\n",
    "submission.to_csv('submission.csv', index=False)\n",
    "\n",
    "# Print confirmation\n",
    "print(\"Submission file created successfully!\")"
   ]
  }
 ],
 "metadata": {
  "kaggle": {
   "accelerator": "none",
   "dataSources": [
    {
     "datasetId": 6372671,
     "sourceId": 10296187,
     "sourceType": "datasetVersion"
    }
   ],
   "dockerImageVersionId": 30822,
   "isGpuEnabled": false,
   "isInternetEnabled": false,
   "language": "python",
   "sourceType": "notebook"
  },
  "kernelspec": {
   "display_name": "Python 3",
   "language": "python",
   "name": "python3"
  },
  "language_info": {
   "codemirror_mode": {
    "name": "ipython",
    "version": 3
   },
   "file_extension": ".py",
   "mimetype": "text/x-python",
   "name": "python",
   "nbconvert_exporter": "python",
   "pygments_lexer": "ipython3",
   "version": "3.10.12"
  },
  "papermill": {
   "default_parameters": {},
   "duration": 65.243402,
   "end_time": "2024-12-25T14:29:01.073862",
   "environment_variables": {},
   "exception": null,
   "input_path": "__notebook__.ipynb",
   "output_path": "__notebook__.ipynb",
   "parameters": {},
   "start_time": "2024-12-25T14:27:55.830460",
   "version": "2.6.0"
  }
 },
 "nbformat": 4,
 "nbformat_minor": 5
}
